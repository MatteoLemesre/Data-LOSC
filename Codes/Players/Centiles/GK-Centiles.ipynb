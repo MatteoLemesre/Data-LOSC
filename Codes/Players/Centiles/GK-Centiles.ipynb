{
 "cells": [
  {
   "cell_type": "code",
   "execution_count": 51,
   "metadata": {},
   "outputs": [],
   "source": [
    "import pandas as pd\n",
    "import os"
   ]
  },
  {
   "cell_type": "code",
   "execution_count": 52,
   "metadata": {},
   "outputs": [],
   "source": [
    "path_folder = \"/Users/matteolemesre/Desktop/Data LOSC/csv/csv24_25/\"\n",
    "path_start  = os.path.join(path_folder, \"clean/data_goals.csv\")\n",
    "path_end_aggregated_data = os.path.join(path_folder, \"centiles/data_goals_aggregated.csv\")\n",
    "path_end_adjusted_data   = os.path.join(path_folder, \"centiles/data_goals_adjusted.csv\")\n",
    "path_end_centiles        = os.path.join(path_folder, \"centiles/data_goals_centiles.csv\")"
   ]
  },
  {
   "cell_type": "code",
   "execution_count": 53,
   "metadata": {},
   "outputs": [],
   "source": [
    "data = pd.read_csv(path_start, index_col=0)"
   ]
  },
  {
   "cell_type": "code",
   "execution_count": 54,
   "metadata": {},
   "outputs": [],
   "source": [
    "def aggregated_data_goals(data):\n",
    "    df_grouped = data.groupby(\"Player\").agg({\n",
    "        \"Team\": lambda x: \" / \".join(sorted(set(x))),\n",
    "        \"League\": lambda x: \" / \".join(sorted(set(x))),\n",
    "        \"Nationality\": \"first\",\n",
    "        \"Minutes\": \"sum\",\n",
    "        \n",
    "        \"Shots on Target Against\": \"sum\",\n",
    "        \"Goals Against\": \"sum\",\n",
    "        \"Saves\": \"sum\",\n",
    "        \"Post-Shot Expected Goals (PSxG)\": \"sum\",\n",
    "        \n",
    "        \"Save Efficiency\": \"sum\",  \n",
    "        \"Clean Sheets\": \"sum\",\n",
    "        \n",
    "        \"Completed Long Passes\": \"sum\",\n",
    "        \"Attempted Long Passes\": \"sum\",\n",
    "        \"Attempted Passes (excluding GK)\": \"sum\",\n",
    "        \"Attempted Throws\": \"sum\",\n",
    "        \"Pass Length (Total)\": \"sum\", \n",
    "         \n",
    "        \"Attempted Goal Kicks\": \"sum\",\n",
    "        \"Goal Kick Length (Total)\": \"sum\",\n",
    "          \n",
    "        \"Crosses Faced\": \"sum\",\n",
    "        \"Crosses Stopped\": \"sum\",\n",
    "        \"Defensive Actions Outside Penalty Area\": \"sum\",\n",
    "        \"Distance of Defensive Actions (Total)\": \"sum\" \n",
    "    }).reset_index()\n",
    "    \n",
    "    df_grouped.insert(df_grouped.columns.get_loc(\"Minutes\"), \"Matches\", data.groupby(\"Player\")[\"Game Week\"].count().values)\n",
    "    \n",
    "    df_grouped[\"Pass Length\"] = (df_grouped[\"Pass Length (Total)\"] / df_grouped[\"Attempted Passes (excluding GK)\"])\n",
    "    df_grouped[\"Goal Kick Length\"] = (df_grouped[\"Goal Kick Length (Total)\"] / df_grouped[\"Attempted Goal Kicks\"])\n",
    "    df_grouped[\"Distance of Defensive Actions\"] = (df_grouped[\"Distance of Defensive Actions (Total)\"] / df_grouped[\"Defensive Actions Outside Penalty Area\"])\n",
    "    \n",
    "    columns_to_drop = [\"Pass Length (Total)\", \"Goal Kick Length (Total)\", \"Distance of Defensive Actions (Total)\"]\n",
    "    df_grouped = df_grouped.drop(columns=columns_to_drop)\n",
    "    \n",
    "    for col in df_grouped.select_dtypes(include=['float64', 'int64']).columns:\n",
    "        df_grouped[col] = df_grouped[col].round(2)\n",
    "    \n",
    "    return df_grouped\n"
   ]
  },
  {
   "cell_type": "code",
   "execution_count": 55,
   "metadata": {},
   "outputs": [],
   "source": [
    "def adjusted_data_goals(data):\n",
    "    stats_per_90 = data.copy()\n",
    "    stats_columns = [\n",
    "        \"Shots on Target Against\", \"Goals Against\", \"Saves\", \n",
    "        \"Post-Shot Expected Goals (PSxG)\", \"Save Efficiency\", \"Clean Sheets\",\n",
    "        \"Completed Long Passes\", \"Attempted Long Passes\",\n",
    "        \"Attempted Passes (excluding GK)\", \"Attempted Throws\", \n",
    "        \"Attempted Goal Kicks\", \"Crosses Faced\", \"Crosses Stopped\", \n",
    "        \"Defensive Actions Outside Penalty Area\"\n",
    "    ]\n",
    "    \n",
    "    for column in stats_columns:\n",
    "        stats_per_90[column] = stats_per_90[column] * 90 / stats_per_90[\"Minutes\"]\n",
    "    \n",
    "    for col in stats_per_90.select_dtypes(include=['float64', 'int64']).columns:\n",
    "        stats_per_90[col] = stats_per_90[col].round(2)\n",
    "    \n",
    "    return stats_per_90"
   ]
  },
  {
   "cell_type": "code",
   "execution_count": 56,
   "metadata": {},
   "outputs": [],
   "source": [
    "def centiles_data_goals(data):\n",
    "    centiles = data.copy()\n",
    "    centiles = centiles.drop(columns=[\"Shots on Target Against\", \"Post-Shot Expected Goals (PSxG)\"])\n",
    "    stats_columns = [\n",
    "        \"Goals Against\", \"Saves\", \n",
    "        \"Save Efficiency\", \"Clean Sheets\",\n",
    "        \"Completed Long Passes\", \"Attempted Long Passes\",\n",
    "        \"Attempted Passes (excluding GK)\", \"Attempted Throws\", \n",
    "        \"Attempted Goal Kicks\", \"Crosses Faced\", \"Crosses Stopped\", \n",
    "        \"Defensive Actions Outside Penalty Area\", \"Pass Length\", \n",
    "        \"Goal Kick Length\", \"Distance of Defensive Actions\"\n",
    "    ]\n",
    "    \n",
    "    stats_columns_neg = [\n",
    "        \"Goals Against\"\n",
    "    ]\n",
    "    for column in stats_columns_neg:\n",
    "        centiles[column] = -centiles[column]\n",
    "    \n",
    "    for column in stats_columns:\n",
    "        centiles[column] = centiles[column].rank(pct=True) * 100\n",
    "    \n",
    "    for col in centiles.select_dtypes(include=['float64', 'int64']).columns:\n",
    "        centiles[col] = centiles[col].round(2)\n",
    "    \n",
    "    return centiles"
   ]
  },
  {
   "cell_type": "code",
   "execution_count": 57,
   "metadata": {},
   "outputs": [],
   "source": [
    "df_aggregated = aggregated_data_goals(data)\n",
    "df_adjusted = adjusted_data_goals(df_aggregated)\n",
    "df_centiles = centiles_data_goals(df_adjusted)\n",
    "df_aggregated.to_csv(path_end_aggregated_data, index=False)\n",
    "df_adjusted.to_csv(path_end_adjusted_data, index=False)\n",
    "df_centiles.to_csv(path_end_centiles, index=False)"
   ]
  },
  {
   "cell_type": "code",
   "execution_count": null,
   "metadata": {},
   "outputs": [],
   "source": []
  }
 ],
 "metadata": {
  "kernelspec": {
   "display_name": "Python 3",
   "language": "python",
   "name": "python3"
  },
  "language_info": {
   "codemirror_mode": {
    "name": "ipython",
    "version": 3
   },
   "file_extension": ".py",
   "mimetype": "text/x-python",
   "name": "python",
   "nbconvert_exporter": "python",
   "pygments_lexer": "ipython3",
   "version": "3.13.1"
  }
 },
 "nbformat": 4,
 "nbformat_minor": 2
}
