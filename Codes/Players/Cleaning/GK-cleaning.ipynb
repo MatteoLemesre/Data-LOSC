{
 "cells": [
  {
   "cell_type": "code",
   "execution_count": 1,
   "metadata": {},
   "outputs": [],
   "source": [
    "import pandas as pd\n",
    "import numpy as np\n",
    "import os"
   ]
  },
  {
   "cell_type": "code",
   "execution_count": 2,
   "metadata": {},
   "outputs": [],
   "source": [
    "path_folder = \"/Users/matteolemesre/Desktop/Data LOSC/csv/csv24_25/\"\n",
    "path_start  = os.path.join(path_folder, \"brutes/data_goals.csv\")\n",
    "path_end    = os.path.join(path_folder, \"clean/data_goals.csv\")"
   ]
  },
  {
   "cell_type": "code",
   "execution_count": 3,
   "metadata": {},
   "outputs": [],
   "source": [
    "df_old = pd.read_csv(path_start, index_col = False)"
   ]
  },
  {
   "cell_type": "code",
   "execution_count": 4,
   "metadata": {},
   "outputs": [],
   "source": [
    "new_data = pd.DataFrame({\n",
    "    \"Player\": df_old[\"Player\"],\n",
    "    \"Game Week\": df_old[\"Game Week\"],\n",
    "    \"Team\": df_old[\"Team\"],\n",
    "    \"League\": df_old[\"League\"],\n",
    "    \"Nationality\": df_old[\"Nationality\"],\n",
    "    \"Age\": df_old[\"Age\"],\n",
    "    \"Minutes\": df_old[\"Minutes\"],\n",
    "    \n",
    "    \"Shots on Target Against\": df_old[\"Shots on Target Against\"],\n",
    "    \"Goals Against\": df_old[\"Goals Against\"],\n",
    "    \"Saves\": df_old[\"Saves\"],\n",
    "    \"Post-Shot Expected Goals (PSxG)\": df_old[\"Post-Shot Expected Goals (PSxG)\"],\n",
    "    \n",
    "    \"Save Efficiency\": np.round(df_old[\"Post-Shot Expected Goals (PSxG)\"] - df_old[\"Goals Against\"], 1),\n",
    "    \"Clean Sheets\": df_old[\"Goals Against\"] == 0,\n",
    "\n",
    "    \"Completed Long Passes\": df_old[\"Passes Completed (Launched)\"],\n",
    "    \"Attempted Long Passes\": df_old[\"Passes Attempted (Launched)\"],\n",
    "    \"Attempted Passes (excluding GK)\": df_old[\"Passes Attempted (GK)\"],\n",
    "    \"Attempted Throws\": df_old[\"Throws Attempted\"],\n",
    "    \"Pass Length (Total)\": round(df_old[\"Average Pass Length\"]*df_old[\"Attempted Passes (excluding GK)\"], 1),\n",
    "    \n",
    "    \"Attempted Goal Kicks\": df_old[\"Goal Kicks Attempted\"],\n",
    "    \"Goal Kick Length (Total)\": round(df_old[\"Average Goal Kick Length\"]*df_old[\"Goal Kicks Attempted\"], 1),\n",
    "    \n",
    "    \"Crosses Faced\": df_old[\"Crosses Faced\"],\n",
    "    \"Crosses Stopped\": df_old[\"Crosses Stopped\"],\n",
    "\n",
    "    \"Defensive Actions Outside Penalty Area\": df_old[\"Def. Actions Outside Penalty Area\"],\n",
    "    \"Distance of Defensive Actions (Total)\": np.round(df_old[\"Average Distance of Def. Actions\"]*df_old[\"Def. Actions Outside Penalty Area\"], 1)\n",
    "})\n",
    "\n",
    "new_data.replace([np.inf, -np.inf], 0, inplace=True)\n",
    "new_data.fillna(0, inplace=True)\n"
   ]
  },
  {
   "cell_type": "code",
   "execution_count": 5,
   "metadata": {},
   "outputs": [],
   "source": [
    "new_data.to_csv(path_end, index=False)"
   ]
  }
 ],
 "metadata": {
  "kernelspec": {
   "display_name": "Python 3",
   "language": "python",
   "name": "python3"
  },
  "language_info": {
   "codemirror_mode": {
    "name": "ipython",
    "version": 3
   },
   "file_extension": ".py",
   "mimetype": "text/x-python",
   "name": "python",
   "nbconvert_exporter": "python",
   "pygments_lexer": "ipython3",
   "version": "3.13.1"
  }
 },
 "nbformat": 4,
 "nbformat_minor": 2
}
