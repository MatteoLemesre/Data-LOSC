{
 "cells": [
  {
   "cell_type": "code",
   "execution_count": 1,
   "metadata": {},
   "outputs": [],
   "source": [
    "import numpy as np\n",
    "import pandas as pd\n",
    "import os\n",
    "from collections import defaultdict"
   ]
  },
  {
   "cell_type": "code",
   "execution_count": 2,
   "metadata": {},
   "outputs": [],
   "source": [
    "path_folder = \"/Users/matteolemesre/Desktop/Data LOSC/csv/csv24_25/\"\n",
    "path_start  = os.path.join(path_folder, \"clean/data_goals.csv\")\n",
    "path_end    = os.path.join(path_folder, \"ratings/data_goals.csv\")"
   ]
  },
  {
   "cell_type": "code",
   "execution_count": 3,
   "metadata": {},
   "outputs": [],
   "source": [
    "data = pd.read_csv(path_start, index_col=0)"
   ]
  },
  {
   "cell_type": "code",
   "execution_count": 4,
   "metadata": {},
   "outputs": [],
   "source": [
    "def new_note(score, target, variation_factor):\n",
    "    difference = score - target \n",
    "    if difference < 0:\n",
    "        difference = 3 * difference / 4\n",
    "    if difference > 0:\n",
    "        difference = difference\n",
    "    new_score = target + difference * variation_factor\n",
    "    return max(min(new_score, 10), 0)"
   ]
  },
  {
   "cell_type": "code",
   "execution_count": 5,
   "metadata": {},
   "outputs": [],
   "source": [
    "def get_position_indices():\n",
    "    indices_comp = [\n",
    "        'Goals Against',              \n",
    "        'Save Efficiency',           \n",
    "        'Saves',                      \n",
    "        'Shots on Target Against',    \n",
    "        'Completed Long Passes',      \n",
    "        'Crosses Stopped',            \n",
    "        'Defensive Actions Outside Penalty Area',  \n",
    "        \"xG évités\"\n",
    "    ]\n",
    "    \n",
    "    indices_neg = [\n",
    "        'Goals Against', \n",
    "        'Post-Shot Expected Goals (PSxG)', \n",
    "        'Shots on Target Against'\n",
    "    ]  \n",
    "    \n",
    "    coeff_indices = [3, 4, 2, 1, 2, 3, 1, 2, 2]  \n",
    "\n",
    "    return indices_comp, indices_neg, coeff_indices"
   ]
  },
  {
   "cell_type": "code",
   "execution_count": 6,
   "metadata": {},
   "outputs": [],
   "source": [
    "def data_by_position(data):\n",
    "    results = {}\n",
    "    \n",
    "    positive_indices, negative_indices, _ = get_position_indices()\n",
    "        \n",
    "    indices = positive_indices + negative_indices\n",
    "        \n",
    "    results_position = data[indices].copy()\n",
    "    results_position = results_position[indices]\n",
    "    results_position.index = data.index\n",
    "    results = {stat: results_position[stat].dropna().iloc[:, 0].tolist() if isinstance(results_position[stat], pd.DataFrame) else results_position[stat].dropna().tolist() for stat in indices}\n",
    "\n",
    "    return results"
   ]
  },
  {
   "cell_type": "code",
   "execution_count": 7,
   "metadata": {},
   "outputs": [],
   "source": [
    "def notation(data, target, variation_factor):\n",
    "    results = []\n",
    "\n",
    "    data = data.copy()\n",
    "    data[\"xG évités\"] = data[\"Post-Shot Expected Goals (PSxG)\"] - data[\"Goals Against\"]\n",
    "\n",
    "    positive_indices, negative_indices, weights = get_position_indices()\n",
    "    indices = positive_indices + negative_indices\n",
    "    \n",
    "    data_stats = data_by_position(data)\n",
    "\n",
    "    for idx, row in data.iterrows():\n",
    "        minutes = row['Minutes']\n",
    "        if minutes < 30 or pd.isnull(minutes):\n",
    "            continue\n",
    "\n",
    "        game_week = row['Game Week']\n",
    "        position = row.get('Position', 'GK')\n",
    "        team = row['Team']\n",
    "        league = row['League']\n",
    "\n",
    "        centiles = {}\n",
    "        factor = 90 / minutes\n",
    "        \n",
    "        for stat, coeff in zip(indices, weights):\n",
    "            if pd.isnull(row[stat]):\n",
    "                continue\n",
    "\n",
    "            player_value = row[stat] * factor\n",
    "\n",
    "            all_values = np.array(data_stats[stat])  \n",
    "\n",
    "            if len(all_values) < 3:\n",
    "                continue \n",
    "\n",
    "            if stat in negative_indices:\n",
    "                centile = (all_values >= player_value).sum() / len(all_values)\n",
    "            else:\n",
    "                centile = (all_values <= player_value).sum() / len(all_values)\n",
    "\n",
    "            centiles[stat] = centile\n",
    "\n",
    "        if not centiles:\n",
    "            continue\n",
    "\n",
    "        raw_note = 10 * sum(centiles[stat] * coeff for stat, coeff in zip(indices, weights) if stat in centiles) / sum(weights)\n",
    "\n",
    "        raw_note += row.get('Clean Sheets', 0)\n",
    "\n",
    "        rating = new_note(raw_note, target, variation_factor)\n",
    "        rating = round(max(0, min(10, rating)), 2)\n",
    "\n",
    "        results.append({\n",
    "            \"Player\": idx,\n",
    "            \"Game Week\": game_week,\n",
    "            \"Position\": position,\n",
    "            \"Team\": team,\n",
    "            \"League\": league,\n",
    "            \"Minutes\": minutes,\n",
    "            \"Rating\": rating\n",
    "        })\n",
    "\n",
    "    return pd.DataFrame(results)\n"
   ]
  },
  {
   "cell_type": "code",
   "execution_count": 8,
   "metadata": {},
   "outputs": [],
   "source": [
    "target = 6.0\n",
    "variation_factor = 0.75\n",
    "notes = notation(data, target, variation_factor)"
   ]
  },
  {
   "cell_type": "code",
   "execution_count": 9,
   "metadata": {},
   "outputs": [],
   "source": [
    "notes.to_csv(path_end, index=False)"
   ]
  }
 ],
 "metadata": {
  "kernelspec": {
   "display_name": "Python 3",
   "language": "python",
   "name": "python3"
  },
  "language_info": {
   "codemirror_mode": {
    "name": "ipython",
    "version": 3
   },
   "file_extension": ".py",
   "mimetype": "text/x-python",
   "name": "python",
   "nbconvert_exporter": "python",
   "pygments_lexer": "ipython3",
   "version": "3.13.1"
  }
 },
 "nbformat": 4,
 "nbformat_minor": 2
}
