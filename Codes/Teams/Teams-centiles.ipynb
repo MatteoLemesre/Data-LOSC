{
 "cells": [
  {
   "cell_type": "code",
   "execution_count": 73,
   "metadata": {},
   "outputs": [],
   "source": [
    "import pandas as pd\n",
    "import numpy as np\n",
    "import os"
   ]
  },
  {
   "cell_type": "code",
   "execution_count": 74,
   "metadata": {},
   "outputs": [],
   "source": [
    "path_folder = \"/Users/matteolemesre/Desktop/Data LOSC/csv/csv24_25/\"\n",
    "path_start  = os.path.join(path_folder, \"clean/data_teams.csv\")\n",
    "path_end_aggregated_data = os.path.join(path_folder, \"centiles/data_teams_aggregated.csv\")\n",
    "path_end_adjusted_data   = os.path.join(path_folder, \"centiles/data_teams_adjusted.csv\")\n",
    "path_end_centiles        = os.path.join(path_folder, \"centiles/data_teams_centiles.csv\")"
   ]
  },
  {
   "cell_type": "code",
   "execution_count": 75,
   "metadata": {},
   "outputs": [],
   "source": [
    "df = pd.read_csv(path_start)\n",
    "df = df.drop(columns=[col for col in df.columns if 'Opponent' in col], errors='ignore')"
   ]
  },
  {
   "cell_type": "code",
   "execution_count": 76,
   "metadata": {},
   "outputs": [],
   "source": [
    "def aggregate_column(col):\n",
    "    if col.name == 'League':\n",
    "        return ', '.join(sorted(set(col.astype(str))))\n",
    "    elif np.issubdtype(col.dtype, np.number):\n",
    "        return col.sum()\n",
    "    else:\n",
    "        return ''\n",
    "\n",
    "aggregated_df = df.groupby(['Team']).agg(aggregate_column).reset_index()\n",
    "\n",
    "aggregated_df['Matchs Played'] = df.groupby('Team').size().values\n",
    "\n",
    "ordered_columns = ['Team', 'Matchs Played', 'League'] + [\n",
    "    col for col in aggregated_df.columns if col not in ['Team', 'League', 'Matchs Played']\n",
    "]\n",
    "aggregated_df = aggregated_df[ordered_columns]\n",
    "\n",
    "aggregated_df.drop(columns=['Shirt Number', 'Home', 'Away'], errors='ignore', inplace=True)\n",
    "\n",
    "for col in aggregated_df.select_dtypes(include=[np.number]).columns:\n",
    "    aggregated_df[col] = aggregated_df[col].round(2)"
   ]
  },
  {
   "cell_type": "code",
   "execution_count": 77,
   "metadata": {},
   "outputs": [],
   "source": [
    "indices_df = aggregated_df.copy()\n",
    "stats_cols = indices_df.select_dtypes(include=[np.number]).columns.drop(['Matchs Played'])\n",
    "\n",
    "for col in stats_cols:\n",
    "    indices_df[col] = indices_df[col] / indices_df['Matchs Played']\n",
    "\n",
    "for col in indices_df.select_dtypes(include=[np.number]).columns:\n",
    "    indices_df[col] = indices_df[col].round(2)"
   ]
  },
  {
   "cell_type": "code",
   "execution_count": 78,
   "metadata": {},
   "outputs": [],
   "source": [
    "inverse_metrics = [\n",
    "    \"Errors Leading to Shot\",\n",
    "    \"Miscontrols\",\n",
    "    \"Dispossessed\",\n",
    "    \"Ball Losses\",\n",
    "    \"Passes Blocked\",\n",
    "    \"Passes Offside\",\n",
    "    \"Challenges Lost\",\n",
    "    \"Yellow Cards\",\n",
    "    \"Red Cards\",\n",
    "    \"Fouls Committed\",\n",
    "    \"Offsides\",\n",
    "    \"Penalty Kicks Conceded\",\n",
    "    \"Own Goals\",\n",
    "    \"Aerials Lost\",\n",
    "    \"Goals Against\",\n",
    "    \"Post-Shot Expected Goals (PSxG)\",  \n",
    "    \"Crosses Faced\",  \n",
    "]\n"
   ]
  },
  {
   "cell_type": "code",
   "execution_count": 79,
   "metadata": {},
   "outputs": [],
   "source": [
    "centiles_df = indices_df.copy()\n",
    "\n",
    "for col in stats_cols:\n",
    "    centile = centiles_df[col].rank(pct=True) * 100\n",
    "    if col in inverse_metrics:\n",
    "        centiles_df[col] = 100 - centile\n",
    "    else:\n",
    "        centiles_df[col] = centile\n",
    "\n",
    "for col in centiles_df.select_dtypes(include=[np.number]).columns:\n",
    "    centiles_df[col] = centiles_df[col].round(2)\n"
   ]
  },
  {
   "cell_type": "code",
   "execution_count": 80,
   "metadata": {},
   "outputs": [],
   "source": [
    "aggregated_df = aggregated_df.drop(columns=['Game Week'], errors='ignore')\n",
    "indices_df = indices_df.drop(columns=['Game Week'], errors='ignore')\n",
    "centiles_df = centiles_df.drop(columns=['Game Week'], errors='ignore')\n",
    "aggregated_df.to_csv(path_end_aggregated_data, index=False)\n",
    "indices_df.to_csv(path_end_adjusted_data, index=False)\n",
    "centiles_df.to_csv(path_end_centiles, index=False)"
   ]
  }
 ],
 "metadata": {
  "kernelspec": {
   "display_name": "Python 3",
   "language": "python",
   "name": "python3"
  },
  "language_info": {
   "codemirror_mode": {
    "name": "ipython",
    "version": 3
   },
   "file_extension": ".py",
   "mimetype": "text/x-python",
   "name": "python",
   "nbconvert_exporter": "python",
   "pygments_lexer": "ipython3",
   "version": "3.13.1"
  }
 },
 "nbformat": 4,
 "nbformat_minor": 2
}
