{
 "cells": [
  {
   "cell_type": "code",
   "execution_count": 51,
   "metadata": {},
   "outputs": [],
   "source": [
    "import pandas as pd\n",
    "import os"
   ]
  },
  {
   "cell_type": "code",
   "execution_count": 52,
   "metadata": {},
   "outputs": [],
   "source": [
    "path_folder = \"/Users/matteolemesre/Desktop/Data LOSC/csv/csv24_25/\"\n",
    "path_start_players  = os.path.join(path_folder, \"clean/data_players.csv\")\n",
    "path_start_goals    = os.path.join(path_folder, \"clean/data_goals.csv\")\n",
    "path_end = os.path.join(path_folder, \"clean/data_teams.csv\")"
   ]
  },
  {
   "cell_type": "code",
   "execution_count": 53,
   "metadata": {},
   "outputs": [],
   "source": [
    "players_df = pd.read_csv(os.path.join(path_folder, path_start_players))\n",
    "goals_df = pd.read_csv(os.path.join(path_folder, path_start_goals))"
   ]
  },
  {
   "cell_type": "code",
   "execution_count": 54,
   "metadata": {},
   "outputs": [],
   "source": [
    "team_stats_players = players_df.groupby(['Game Week', 'League', 'Team']).sum(numeric_only=True).reset_index()\n",
    "team_stats_goals = goals_df.groupby(['Game Week', 'League', 'Team']).sum(numeric_only=True).reset_index()\n",
    "\n",
    "team_stats = pd.merge(\n",
    "    team_stats_players,\n",
    "    team_stats_goals,\n",
    "    on=['Game Week', 'League', 'Team'],\n",
    "    how='outer',\n",
    "    suffixes=('', '_goal')\n",
    ")"
   ]
  },
  {
   "cell_type": "code",
   "execution_count": 55,
   "metadata": {},
   "outputs": [],
   "source": [
    "adversaires = []\n",
    "\n",
    "championnats = team_stats['League'].unique()\n",
    "\n",
    "for champ in championnats:\n",
    "    path = os.path.join(path_folder, f\"leagues_games/{champ}_games.csv\")\n",
    "    if not os.path.exists(path):\n",
    "        print(f\"Fichier non trouvé : {path}\")\n",
    "        continue\n",
    "\n",
    "    match_df = pd.read_csv(path)\n",
    "\n",
    "    match_df = match_df.rename(columns={\n",
    "        'Home Team': 'Home',\n",
    "        'Away Team': 'Away'\n",
    "    })\n",
    "\n",
    "    match_df['League'] = champ\n",
    "\n",
    "    home_df = match_df[['Game Week', 'League', 'Home', 'Away']].copy()\n",
    "    home_df = home_df.rename(columns={'Away': 'Opponent'})\n",
    "\n",
    "    away_df = match_df[['Game Week', 'League', 'Home', 'Away']].copy()\n",
    "    away_df = away_df.rename(columns={'Home': 'Opponent'})\n",
    "\n",
    "    match_long = pd.concat([home_df, away_df])\n",
    "    adversaires.append(match_long)\n",
    "\n",
    "adversaires_df = pd.concat(adversaires)\n",
    "\n"
   ]
  },
  {
   "cell_type": "code",
   "execution_count": 56,
   "metadata": {},
   "outputs": [],
   "source": [
    "stats_with_opp = pd.merge(\n",
    "    team_stats,\n",
    "    adversaires_df,\n",
    "    on=['Game Week', 'League'],\n",
    "    how='left'\n",
    ")\n",
    "\n",
    "stats_with_opp.drop(columns=['Minutes', 'Minutes_goal', 'Efficacité des arrêts', 'Pourcentage d arrêts'], inplace=True, errors='ignore')\n",
    "stats_with_opp.to_csv(path_end, index=False)"
   ]
  }
 ],
 "metadata": {
  "kernelspec": {
   "display_name": "Python 3",
   "language": "python",
   "name": "python3"
  },
  "language_info": {
   "codemirror_mode": {
    "name": "ipython",
    "version": 3
   },
   "file_extension": ".py",
   "mimetype": "text/x-python",
   "name": "python",
   "nbconvert_exporter": "python",
   "pygments_lexer": "ipython3",
   "version": "3.13.1"
  }
 },
 "nbformat": 4,
 "nbformat_minor": 2
}
